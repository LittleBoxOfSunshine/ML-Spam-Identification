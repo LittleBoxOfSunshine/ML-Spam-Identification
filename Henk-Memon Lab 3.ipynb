{
 "cells": [
  {
   "cell_type": "code",
   "execution_count": 4,
   "metadata": {
    "collapsed": false
   },
   "outputs": [
    {
     "name": "stdout",
     "output_type": "stream",
     "text": [
      "[[ 0.14891747  7.67534088 -0.6070791  ..., -0.07735751 -0.03178106\n",
      "   0.94336346]\n",
      " [ 0.49891483  7.16352571 -0.6070791  ..., -0.06374392  0.42255723\n",
      "   0.94336346]\n",
      " [-0.44170307  7.15748682 -0.6070791  ..., -0.08295187  0.42255723\n",
      "   0.94336346]\n",
      " ..., \n",
      " [ 0.01766846 -1.18371046 -0.6070791  ..., -0.06475587  0.42255723\n",
      "   0.94336346]\n",
      " [ 0.14891747 -1.18238553 -0.6070791  ..., -0.0713049   0.42255723\n",
      "  -1.06003681]\n",
      " [ 0.1707923  -1.18478153 -0.6070791  ..., -0.07527633 -2.64963504\n",
      "  -1.06003681]]\n"
     ]
    },
    {
     "name": "stderr",
     "output_type": "stream",
     "text": [
      "/Users/arslanmemon/miniconda2/envs/MLEnv/lib/python3.5/site-packages/sklearn/utils/validation.py:429: DataConversionWarning: Data with input dtype object was converted to float64 by StandardScaler.\n",
      "  warnings.warn(msg, _DataConversionWarning)\n"
     ]
    }
   ],
   "source": [
    "import pandas as pd\n",
    "from sklearn.model_selection import train_test_split\n",
    "from sklearn.preprocessing import StandardScaler\n",
    "import numpy as np\n",
    "df=pd.read_csv('./parsed data/table.csv')\n",
    "if 'is_spam' in df:\n",
    "    y = df['is_spam'].values # get the labels we want\n",
    "    del df['is_spam'] # get rid of the class label\n",
    "    X=df.values\n",
    "\n",
    "sc =StandardScaler()\n",
    "\n",
    "#normalize data\n",
    "X=sc.fit_transform(X)\n",
    "#train-test data\n",
    "X_train, X_test, y_train, y_test = train_test_split(X, y, test_size=0.2)\n",
    "\n",
    "# Split X_train again to create validation data\n",
    "X_train, X_val, y_train, y_val = train_test_split(X_train,y_train,test_size=0.2)\n",
    "print(X)"
   ]
  },
  {
   "cell_type": "markdown",
   "metadata": {},
   "source": [
    "# Modeling"
   ]
  },
  {
   "cell_type": "markdown",
   "metadata": {},
   "source": [
    "## MODEL 1 "
   ]
  },
  {
   "cell_type": "markdown",
   "metadata": {},
   "source": [
    "(PURPOSE)"
   ]
  },
  {
   "cell_type": "markdown",
   "metadata": {},
   "source": [
    "(CODE)"
   ]
  },
  {
   "cell_type": "markdown",
   "metadata": {
    "collapsed": true
   },
   "source": [
    "(HYPERTUNE PARAMETER) "
   ]
  },
  {
   "cell_type": "markdown",
   "metadata": {},
   "source": [
    "## MODEL 2"
   ]
  },
  {
   "cell_type": "code",
   "execution_count": null,
   "metadata": {
    "collapsed": true
   },
   "outputs": [],
   "source": []
  }
 ],
 "metadata": {
  "anaconda-cloud": {},
  "kernelspec": {
   "display_name": "Python (MLEnv)",
   "language": "python",
   "name": "mlenv"
  },
  "language_info": {
   "codemirror_mode": {
    "name": "ipython",
    "version": 3
   },
   "file_extension": ".py",
   "mimetype": "text/x-python",
   "name": "python",
   "nbconvert_exporter": "python",
   "pygments_lexer": "ipython3",
   "version": "3.5.2"
  }
 },
 "nbformat": 4,
 "nbformat_minor": 1
}
