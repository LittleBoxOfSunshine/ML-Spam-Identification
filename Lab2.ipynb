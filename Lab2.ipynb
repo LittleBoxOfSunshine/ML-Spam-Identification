{
 "cells": [
  {
   "cell_type": "code",
   "execution_count": 1,
   "metadata": {
    "collapsed": false
   },
   "outputs": [
    {
     "name": "stdout",
     "output_type": "stream",
     "text": [
      "<class 'pandas.core.frame.DataFrame'>\n",
      "RangeIndex: 6158 entries, 0 to 6157\n",
      "Data columns (total 8 columns):\n",
      "multipart_count                         6158 non-null int64\n",
      "is_spam                                 6158 non-null bool\n",
      "frm_fuzz_set_ratio                      6158 non-null float64\n",
      "payload_dale_chall_readability_score    6158 non-null float64\n",
      "payload_coleman_liau_index              6158 non-null float64\n",
      "organization                            6158 non-null bool\n",
      "payload_smog_index                      6158 non-null float64\n",
      "cc                                      6158 non-null bool\n",
      "dtypes: bool(3), float64(4), int64(1)\n",
      "memory usage: 258.7 KB\n"
     ]
    }
   ],
   "source": [
    "import pandas as pd\n",
    "import numpy as np\n",
    "df=pd.read_csv('./parsed data/table.csv')\n",
    "df.head()\n",
    "df.info()"
   ]
  },
  {
   "cell_type": "code",
   "execution_count": 2,
   "metadata": {
    "collapsed": false
   },
   "outputs": [
    {
     "data": {
      "text/html": [
       "<div>\n",
       "<table border=\"1\" class=\"dataframe\">\n",
       "  <thead>\n",
       "    <tr style=\"text-align: right;\">\n",
       "      <th></th>\n",
       "      <th>multipart_count</th>\n",
       "      <th>is_spam</th>\n",
       "      <th>frm_fuzz_set_ratio</th>\n",
       "      <th>payload_dale_chall_readability_score</th>\n",
       "      <th>payload_coleman_liau_index</th>\n",
       "      <th>organization</th>\n",
       "      <th>payload_smog_index</th>\n",
       "      <th>cc</th>\n",
       "    </tr>\n",
       "  </thead>\n",
       "  <tbody>\n",
       "    <tr>\n",
       "      <th>0</th>\n",
       "      <td>0</td>\n",
       "      <td>False</td>\n",
       "      <td>0.93</td>\n",
       "      <td>0.277884</td>\n",
       "      <td>0.006038</td>\n",
       "      <td>False</td>\n",
       "      <td>0.150943</td>\n",
       "      <td>True</td>\n",
       "    </tr>\n",
       "    <tr>\n",
       "      <th>1</th>\n",
       "      <td>0</td>\n",
       "      <td>False</td>\n",
       "      <td>1.00</td>\n",
       "      <td>0.274870</td>\n",
       "      <td>0.009278</td>\n",
       "      <td>False</td>\n",
       "      <td>0.176101</td>\n",
       "      <td>True</td>\n",
       "    </tr>\n",
       "    <tr>\n",
       "      <th>2</th>\n",
       "      <td>0</td>\n",
       "      <td>False</td>\n",
       "      <td>1.00</td>\n",
       "      <td>0.262812</td>\n",
       "      <td>0.004707</td>\n",
       "      <td>False</td>\n",
       "      <td>0.108491</td>\n",
       "      <td>True</td>\n",
       "    </tr>\n",
       "    <tr>\n",
       "      <th>3</th>\n",
       "      <td>0</td>\n",
       "      <td>False</td>\n",
       "      <td>1.00</td>\n",
       "      <td>0.278981</td>\n",
       "      <td>0.006193</td>\n",
       "      <td>False</td>\n",
       "      <td>0.163522</td>\n",
       "      <td>True</td>\n",
       "    </tr>\n",
       "    <tr>\n",
       "      <th>4</th>\n",
       "      <td>0</td>\n",
       "      <td>False</td>\n",
       "      <td>0.92</td>\n",
       "      <td>0.288572</td>\n",
       "      <td>0.010382</td>\n",
       "      <td>False</td>\n",
       "      <td>0.185535</td>\n",
       "      <td>True</td>\n",
       "    </tr>\n",
       "  </tbody>\n",
       "</table>\n",
       "</div>"
      ],
      "text/plain": [
       "   multipart_count is_spam  frm_fuzz_set_ratio  \\\n",
       "0                0   False                0.93   \n",
       "1                0   False                1.00   \n",
       "2                0   False                1.00   \n",
       "3                0   False                1.00   \n",
       "4                0   False                0.92   \n",
       "\n",
       "   payload_dale_chall_readability_score  payload_coleman_liau_index  \\\n",
       "0                              0.277884                    0.006038   \n",
       "1                              0.274870                    0.009278   \n",
       "2                              0.262812                    0.004707   \n",
       "3                              0.278981                    0.006193   \n",
       "4                              0.288572                    0.010382   \n",
       "\n",
       "  organization  payload_smog_index    cc  \n",
       "0        False            0.150943  True  \n",
       "1        False            0.176101  True  \n",
       "2        False            0.108491  True  \n",
       "3        False            0.163522  True  \n",
       "4        False            0.185535  True  "
      ]
     },
     "execution_count": 2,
     "metadata": {},
     "output_type": "execute_result"
    }
   ],
   "source": [
    "#normalize data\n",
    "df['frm_fuzz_set_ratio']=df['frm_fuzz_set_ratio']/np.max(df['frm_fuzz_set_ratio'])\n",
    "df['payload_dale_chall_readability_score']=df['payload_dale_chall_readability_score']/np.max(df['payload_dale_chall_readability_score'])\n",
    "df['payload_smog_index']=df['payload_smog_index']/np.max(df['payload_smog_index'])\n",
    "df['payload_coleman_liau_index']=df['payload_coleman_liau_index']/np.max(df['payload_coleman_liau_index'])\n",
    "df.head()"
   ]
  },
  {
   "cell_type": "code",
   "execution_count": 3,
   "metadata": {
    "collapsed": false
   },
   "outputs": [
    {
     "name": "stdout",
     "output_type": "stream",
     "text": [
      "CPU times: user 31.4 ms, sys: 1.03 ms, total: 32.4 ms\n",
      "Wall time: 32.4 ms\n",
      "[[ 0.64941733 -4.29188146  2.0108381   3.32107707 -5.41494561  5.8730554\n",
      "  -6.13985752]]\n",
      "Accuracy of:  0.908087041247\n"
     ]
    }
   ],
   "source": [
    "from sklearn.linear_model import LogisticRegression\n",
    "from sklearn.metrics import accuracy_score\n",
    "\n",
    "if 'is_spam' in df:\n",
    "    y = df['is_spam'].values # get the labels we want\n",
    "    del df['is_spam'] # get rid of the class label\n",
    "    X = df.values# use everything else to predict!\n",
    "\n",
    "lr_sk = LogisticRegression() # all params default\n",
    "\n",
    "%time lr_sk.fit(X,y) # no need to add bias term, sklearn does it internally!!\n",
    "print(lr_sk.coef_)\n",
    "yhat = lr_sk.predict(X)\n",
    "print('Accuracy of: ',accuracy_score(y,yhat))"
   ]
  },
  {
   "cell_type": "code",
   "execution_count": 4,
   "metadata": {
    "collapsed": false
   },
   "outputs": [
    {
     "name": "stdout",
     "output_type": "stream",
     "text": [
      "====Iteration 0  ====\n",
      "accuracy 0.909090909091\n",
      "confusion matrix\n",
      " [[421   4]\n",
      " [ 52 139]]\n",
      "====Iteration 1  ====\n",
      "accuracy 0.910714285714\n",
      "confusion matrix\n",
      " [[389   1]\n",
      " [ 54 172]]\n",
      "====Iteration 2  ====\n",
      "accuracy 0.896103896104\n",
      "confusion matrix\n",
      " [[394   4]\n",
      " [ 60 158]]\n",
      "====Iteration 3  ====\n",
      "accuracy 0.887987012987\n",
      "confusion matrix\n",
      " [[387   2]\n",
      " [ 67 160]]\n",
      "====Iteration 4  ====\n",
      "accuracy 0.923701298701\n",
      "confusion matrix\n",
      " [[403   5]\n",
      " [ 42 166]]\n",
      "====Iteration 5  ====\n",
      "accuracy 0.918831168831\n",
      "confusion matrix\n",
      " [[399   2]\n",
      " [ 48 167]]\n",
      "====Iteration 6  ====\n",
      "accuracy 0.913961038961\n",
      "confusion matrix\n",
      " [[390   5]\n",
      " [ 48 173]]\n",
      "====Iteration 7  ====\n",
      "accuracy 0.912337662338\n",
      "confusion matrix\n",
      " [[412   4]\n",
      " [ 50 150]]\n"
     ]
    }
   ],
   "source": [
    "#Training/testing \n",
    "from sklearn.cross_validation import ShuffleSplit\n",
    "num_cv_iterations = 8\n",
    "num_instances = len(y)\n",
    "cv_object = ShuffleSplit(n=num_instances,\n",
    "                         n_iter=num_cv_iterations,\n",
    "                         test_size  = .1)\n",
    "# run logistic regression and vary some parameters\n",
    "from sklearn.linear_model import LogisticRegression\n",
    "from sklearn import metrics as mt\n",
    "lr_clf = LogisticRegression(penalty='l2', C=1.0, class_weight=None)\n",
    "# first we create a reusable logisitic regression object\n",
    "#   here we can setup the object with different learning parameters and constants\n",
    "for iter_num, (train_indices, test_indices) in enumerate(cv_object):\n",
    "    lr_clf.fit(X[train_indices],y[train_indices])  # train object\n",
    "    y_hat = lr_clf.predict(X[test_indices]) # get test set precitions\n",
    "\n",
    "    # print the accuracy and confusion matrix \n",
    "    print(\"====Iteration\",iter_num,\" ====\")\n",
    "    print(\"accuracy\", mt.accuracy_score(y[test_indices],y_hat)) \n",
    "    print(\"confusion matrix\\n\",mt.confusion_matrix(y[test_indices],y_hat))"
   ]
  },
  {
   "cell_type": "code",
   "execution_count": 8,
   "metadata": {
    "collapsed": false
   },
   "outputs": [
    {
     "name": "stderr",
     "output_type": "stream",
     "text": [
      "/Users/arslanmemon/miniconda2/envs/MLEnv/lib/python3.5/site-packages/sklearn/utils/validation.py:420: DataConversionWarning:\n",
      "\n",
      "Data with input dtype object was converted to float64 by StandardScaler.\n",
      "\n",
      "/Users/arslanmemon/miniconda2/envs/MLEnv/lib/python3.5/site-packages/sklearn/utils/validation.py:420: DataConversionWarning:\n",
      "\n",
      "Data with input dtype object was converted to float64 by StandardScaler.\n",
      "\n",
      "/Users/arslanmemon/miniconda2/envs/MLEnv/lib/python3.5/site-packages/sklearn/utils/validation.py:420: DataConversionWarning:\n",
      "\n",
      "Data with input dtype object was converted to float64 by StandardScaler.\n",
      "\n",
      "/Users/arslanmemon/miniconda2/envs/MLEnv/lib/python3.5/site-packages/sklearn/utils/validation.py:420: DataConversionWarning:\n",
      "\n",
      "Data with input dtype object was converted to float64 by StandardScaler.\n",
      "\n",
      "/Users/arslanmemon/miniconda2/envs/MLEnv/lib/python3.5/site-packages/sklearn/utils/validation.py:420: DataConversionWarning:\n",
      "\n",
      "Data with input dtype object was converted to float64 by StandardScaler.\n",
      "\n",
      "/Users/arslanmemon/miniconda2/envs/MLEnv/lib/python3.5/site-packages/sklearn/utils/validation.py:420: DataConversionWarning:\n",
      "\n",
      "Data with input dtype object was converted to float64 by StandardScaler.\n",
      "\n",
      "/Users/arslanmemon/miniconda2/envs/MLEnv/lib/python3.5/site-packages/sklearn/utils/validation.py:420: DataConversionWarning:\n",
      "\n",
      "Data with input dtype object was converted to float64 by StandardScaler.\n",
      "\n",
      "/Users/arslanmemon/miniconda2/envs/MLEnv/lib/python3.5/site-packages/sklearn/utils/validation.py:420: DataConversionWarning:\n",
      "\n",
      "Data with input dtype object was converted to float64 by StandardScaler.\n",
      "\n",
      "/Users/arslanmemon/miniconda2/envs/MLEnv/lib/python3.5/site-packages/sklearn/utils/validation.py:420: DataConversionWarning:\n",
      "\n",
      "Data with input dtype object was converted to float64 by StandardScaler.\n",
      "\n",
      "/Users/arslanmemon/miniconda2/envs/MLEnv/lib/python3.5/site-packages/sklearn/utils/validation.py:420: DataConversionWarning:\n",
      "\n",
      "Data with input dtype object was converted to float64 by StandardScaler.\n",
      "\n",
      "/Users/arslanmemon/miniconda2/envs/MLEnv/lib/python3.5/site-packages/sklearn/utils/validation.py:420: DataConversionWarning:\n",
      "\n",
      "Data with input dtype object was converted to float64 by StandardScaler.\n",
      "\n",
      "/Users/arslanmemon/miniconda2/envs/MLEnv/lib/python3.5/site-packages/sklearn/utils/validation.py:420: DataConversionWarning:\n",
      "\n",
      "Data with input dtype object was converted to float64 by StandardScaler.\n",
      "\n",
      "/Users/arslanmemon/miniconda2/envs/MLEnv/lib/python3.5/site-packages/sklearn/utils/validation.py:420: DataConversionWarning:\n",
      "\n",
      "Data with input dtype object was converted to float64 by StandardScaler.\n",
      "\n",
      "/Users/arslanmemon/miniconda2/envs/MLEnv/lib/python3.5/site-packages/sklearn/utils/validation.py:420: DataConversionWarning:\n",
      "\n",
      "Data with input dtype object was converted to float64 by StandardScaler.\n",
      "\n",
      "/Users/arslanmemon/miniconda2/envs/MLEnv/lib/python3.5/site-packages/sklearn/utils/validation.py:420: DataConversionWarning:\n",
      "\n",
      "Data with input dtype object was converted to float64 by StandardScaler.\n",
      "\n",
      "/Users/arslanmemon/miniconda2/envs/MLEnv/lib/python3.5/site-packages/sklearn/utils/validation.py:420: DataConversionWarning:\n",
      "\n",
      "Data with input dtype object was converted to float64 by StandardScaler.\n",
      "\n"
     ]
    }
   ],
   "source": [
    "from sklearn.preprocessing import StandardScaler\n",
    "# we want to normalize the features based upon the mean and standard deviation of each column. \n",
    "# However, we do not want to accidentally use the testing data to find out the mean and std (this would be snooping)\n",
    "\n",
    "from sklearn.pipeline import Pipeline\n",
    "import plotly\n",
    "# you can apply the StandardScaler function inside of the cross-validation loop \n",
    "#  but this requires the use of PipeLines in scikit. \n",
    "#  A pipeline can apply feature pre-processing and data fitting in one compact notation\n",
    "#  Here is an example!\n",
    "\n",
    "std_scl = StandardScaler()\n",
    "lr_clf = LogisticRegression(penalty='l2', C=0.05) \n",
    "\n",
    "# create the pipline\n",
    "piped_object = Pipeline([('scale', std_scl),  # do this\n",
    "                         ('logit_model', lr_clf)]) # and then do this\n",
    "\n",
    "weights = []\n",
    "# run the pipline cross validated\n",
    "for iter_num, (train_indices, test_indices) in enumerate(cv_object):\n",
    "    piped_object.fit(X[train_indices],y[train_indices])  # train object\n",
    "    # it is a little odd getting trained objects from a  pipeline:\n",
    "    weights.append(piped_object.named_steps['logit_model'].coef_[0])\n",
    "    \n",
    "\n",
    "weights = np.array(weights)"
   ]
  },
  {
   "cell_type": "code",
   "execution_count": 9,
   "metadata": {
    "collapsed": false
   },
   "outputs": [
    {
     "ename": "PlotlyError",
     "evalue": "Plotly Offline mode has not been initialized in this notebook. Run: \n\nimport plotly\nplotly.offline.init_notebook_mode() # run at the start of every ipython notebook",
     "output_type": "error",
     "traceback": [
      "\u001b[0;31m---------------------------------------------------------------------------\u001b[0m",
      "\u001b[0;31mPlotlyError\u001b[0m                               Traceback (most recent call last)",
      "\u001b[0;32m<ipython-input-9-bbd200cbd090>\u001b[0m in \u001b[0;36m<module>\u001b[0;34m()\u001b[0m\n\u001b[1;32m     14\u001b[0m \u001b[0mfig\u001b[0m\u001b[0;34m[\u001b[0m\u001b[0;34m'layout'\u001b[0m\u001b[0;34m]\u001b[0m \u001b[0;34m=\u001b[0m \u001b[0;34m{\u001b[0m\u001b[0;34m'title'\u001b[0m\u001b[0;34m:\u001b[0m \u001b[0;34m'Logistic Regression Weights, with error bars'\u001b[0m\u001b[0;34m}\u001b[0m\u001b[0;34m\u001b[0m\u001b[0m\n\u001b[1;32m     15\u001b[0m \u001b[0;34m\u001b[0m\u001b[0m\n\u001b[0;32m---> 16\u001b[0;31m \u001b[0mplotly\u001b[0m\u001b[0;34m.\u001b[0m\u001b[0moffline\u001b[0m\u001b[0;34m.\u001b[0m\u001b[0miplot\u001b[0m\u001b[0;34m(\u001b[0m\u001b[0mfig\u001b[0m\u001b[0;34m)\u001b[0m\u001b[0;34m\u001b[0m\u001b[0m\n\u001b[0m",
      "\u001b[0;32m/Users/arslanmemon/miniconda2/envs/MLEnv/lib/python3.5/site-packages/plotly/offline/offline.py\u001b[0m in \u001b[0;36miplot\u001b[0;34m(figure_or_data, show_link, link_text, validate, image, filename, image_width, image_height)\u001b[0m\n\u001b[1;32m    283\u001b[0m             \u001b[0;34m''\u001b[0m\u001b[0;34m,\u001b[0m\u001b[0;34m\u001b[0m\u001b[0m\n\u001b[1;32m    284\u001b[0m             \u001b[0;34m'import plotly'\u001b[0m\u001b[0;34m,\u001b[0m\u001b[0;34m\u001b[0m\u001b[0m\n\u001b[0;32m--> 285\u001b[0;31m             \u001b[0;34m'plotly.offline.init_notebook_mode() '\u001b[0m\u001b[0;34m\u001b[0m\u001b[0m\n\u001b[0m\u001b[1;32m    286\u001b[0m             \u001b[0;34m'# run at the start of every ipython notebook'\u001b[0m\u001b[0;34m,\u001b[0m\u001b[0;34m\u001b[0m\u001b[0m\n\u001b[1;32m    287\u001b[0m         ]))\n",
      "\u001b[0;31mPlotlyError\u001b[0m: Plotly Offline mode has not been initialized in this notebook. Run: \n\nimport plotly\nplotly.offline.init_notebook_mode() # run at the start of every ipython notebook"
     ]
    }
   ],
   "source": [
    "error_y=dict(\n",
    "            type='data',\n",
    "            array=np.std(weights,axis=0),\n",
    "            visible=True\n",
    "        )\n",
    "\n",
    "graph1 = {'x': df.columns,\n",
    "          'y': np.mean(weights,axis=0),\n",
    "    'error_y':error_y,\n",
    "       'type': 'bar'}\n",
    "\n",
    "fig = dict()\n",
    "fig['data'] = [graph1]\n",
    "fig['layout'] = {'title': 'Logistic Regression Weights, with error bars'}\n",
    "\n",
    "plotly.offline.iplot(fig)"
   ]
  },
  {
   "cell_type": "code",
   "execution_count": null,
   "metadata": {
    "collapsed": true
   },
   "outputs": [],
   "source": []
  }
 ],
 "metadata": {
  "anaconda-cloud": {},
  "kernelspec": {
   "display_name": "Python (MLEnv)",
   "language": "python",
   "name": "mlenv"
  },
  "language_info": {
   "codemirror_mode": {
    "name": "ipython",
    "version": 3
   },
   "file_extension": ".py",
   "mimetype": "text/x-python",
   "name": "python",
   "nbconvert_exporter": "python",
   "pygments_lexer": "ipython3",
   "version": "3.5.2"
  }
 },
 "nbformat": 4,
 "nbformat_minor": 1
}
