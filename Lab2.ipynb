{
 "cells": [
  {
   "cell_type": "code",
   "execution_count": 39,
   "metadata": {
    "collapsed": false
   },
   "outputs": [
    {
     "data": {
      "text/html": [
       "<div>\n",
       "<table border=\"1\" class=\"dataframe\">\n",
       "  <thead>\n",
       "    <tr style=\"text-align: right;\">\n",
       "      <th></th>\n",
       "      <th>organization</th>\n",
       "      <th>cc</th>\n",
       "      <th>frm_fuzz_set_ratio</th>\n",
       "      <th>multipart_count</th>\n",
       "      <th>is_spam</th>\n",
       "      <th>payload_dale_chall_readability_score</th>\n",
       "      <th>payload_smog_index</th>\n",
       "      <th>payload_coleman_liau_index</th>\n",
       "    </tr>\n",
       "  </thead>\n",
       "  <tbody>\n",
       "    <tr>\n",
       "      <th>0</th>\n",
       "      <td>False</td>\n",
       "      <td>True</td>\n",
       "      <td>93.0</td>\n",
       "      <td>0</td>\n",
       "      <td>False</td>\n",
       "      <td>10.14</td>\n",
       "      <td>9.6</td>\n",
       "      <td>13.29</td>\n",
       "    </tr>\n",
       "    <tr>\n",
       "      <th>1</th>\n",
       "      <td>False</td>\n",
       "      <td>True</td>\n",
       "      <td>100.0</td>\n",
       "      <td>0</td>\n",
       "      <td>False</td>\n",
       "      <td>10.03</td>\n",
       "      <td>11.2</td>\n",
       "      <td>20.42</td>\n",
       "    </tr>\n",
       "    <tr>\n",
       "      <th>2</th>\n",
       "      <td>False</td>\n",
       "      <td>True</td>\n",
       "      <td>100.0</td>\n",
       "      <td>0</td>\n",
       "      <td>False</td>\n",
       "      <td>9.59</td>\n",
       "      <td>6.9</td>\n",
       "      <td>10.36</td>\n",
       "    </tr>\n",
       "    <tr>\n",
       "      <th>3</th>\n",
       "      <td>False</td>\n",
       "      <td>True</td>\n",
       "      <td>100.0</td>\n",
       "      <td>0</td>\n",
       "      <td>False</td>\n",
       "      <td>10.18</td>\n",
       "      <td>10.4</td>\n",
       "      <td>13.63</td>\n",
       "    </tr>\n",
       "    <tr>\n",
       "      <th>4</th>\n",
       "      <td>False</td>\n",
       "      <td>True</td>\n",
       "      <td>92.0</td>\n",
       "      <td>0</td>\n",
       "      <td>False</td>\n",
       "      <td>10.53</td>\n",
       "      <td>11.8</td>\n",
       "      <td>22.85</td>\n",
       "    </tr>\n",
       "  </tbody>\n",
       "</table>\n",
       "</div>"
      ],
      "text/plain": [
       "  organization    cc  frm_fuzz_set_ratio  multipart_count is_spam  \\\n",
       "0        False  True                93.0                0   False   \n",
       "1        False  True               100.0                0   False   \n",
       "2        False  True               100.0                0   False   \n",
       "3        False  True               100.0                0   False   \n",
       "4        False  True                92.0                0   False   \n",
       "\n",
       "   payload_dale_chall_readability_score  payload_smog_index  \\\n",
       "0                                 10.14                 9.6   \n",
       "1                                 10.03                11.2   \n",
       "2                                  9.59                 6.9   \n",
       "3                                 10.18                10.4   \n",
       "4                                 10.53                11.8   \n",
       "\n",
       "   payload_coleman_liau_index  \n",
       "0                       13.29  \n",
       "1                       20.42  \n",
       "2                       10.36  \n",
       "3                       13.63  \n",
       "4                       22.85  "
      ]
     },
     "execution_count": 39,
     "metadata": {},
     "output_type": "execute_result"
    }
   ],
   "source": [
    "import pandas as pd\n",
    "df=pd.read_csv('./parsed data/t2.csv')\n",
    "df.head()"
   ]
  },
  {
   "cell_type": "code",
   "execution_count": 40,
   "metadata": {
    "collapsed": false
   },
   "outputs": [
    {
     "name": "stdout",
     "output_type": "stream",
     "text": [
      "CPU times: user 39.3 ms, sys: 1.21 ms, total: 40.5 ms\n",
      "Wall time: 41.2 ms\n",
      "[[-6.75163445 -6.24468883 -0.04154329  0.59495155 -0.21203244  0.07243428\n",
      "   0.09111326]]\n",
      "Accuracy of:  0.93699369937\n"
     ]
    }
   ],
   "source": [
    "from sklearn.linear_model import LogisticRegression\n",
    "from sklearn.metrics import accuracy_score\n",
    "\n",
    "if 'is_spam' in df:\n",
    "    y = df['is_spam'].values # get the labels we want\n",
    "    del df['is_spam'] # get rid of the class label\n",
    "    X = df.values# use everything else to predict!\n",
    "\n",
    "lr_sk = LogisticRegression() # all params default\n",
    "\n",
    "%time lr_sk.fit(X,y) # no need to add bias term, sklearn does it internally!!\n",
    "print(lr_sk.coef_)\n",
    "yhat = lr_sk.predict(X)\n",
    "print('Accuracy of: ',accuracy_score(y,yhat))"
   ]
  },
  {
   "cell_type": "code",
   "execution_count": null,
   "metadata": {
    "collapsed": true
   },
   "outputs": [],
   "source": []
  },
  {
   "cell_type": "code",
   "execution_count": null,
   "metadata": {
    "collapsed": true
   },
   "outputs": [],
   "source": []
  },
  {
   "cell_type": "code",
   "execution_count": null,
   "metadata": {
    "collapsed": true
   },
   "outputs": [],
   "source": []
  }
 ],
 "metadata": {
  "anaconda-cloud": {},
  "kernelspec": {
   "display_name": "Python [default]",
   "language": "python",
   "name": "python3"
  },
  "language_info": {
   "codemirror_mode": {
    "name": "ipython",
    "version": 3
   },
   "file_extension": ".py",
   "mimetype": "text/x-python",
   "name": "python",
   "nbconvert_exporter": "python",
   "pygments_lexer": "ipython3",
   "version": "3.5.2"
  }
 },
 "nbformat": 4,
 "nbformat_minor": 1
}
