{
 "cells": [
  {
   "cell_type": "markdown",
   "metadata": {},
   "source": [
    "# Utilizing Text Statistics to Detect SPAM Emails"
   ]
  },
  {
   "cell_type": "markdown",
   "metadata": {},
   "source": [
    "Our dataset was built using a custom analysis of the emails found in the \"eron-spam\" corpus. The emails include approximately 19000 emails from Enron Corporation that were relased by the federal government during an investigation into the company as well as approximately 27000 emails that come from a variety of \"honeypot\" repositories. All emails were collected in their raw, complete form includding associated headers.\n",
    "\n",
    "The purpose of this analysis is to provide data from which a machine learning model can be produce to automatically detect and remove spam from incomming emails to prevent them from arriving to clients. Spam is pressing issue that wastes computer resources, decreases worker productivity, and is often an infection vector for various malware. Bad actors are continually modifying there strategies in order to evade detection. For instance, it is common practice to add hundreds or even thousands of random dictionary words into portions of the file that aren't directly visible to the user (e.g., HTML comments) in order to make a message appear to have valid content. These continually changing strategies require an adaptive approach to catch new trends as they emerge. Given the amount and pace of change, it is infeasible for software developers and security vendors to react quickly enough. Machine learning, however, is well situated to solve this problem by detecting novel patterns humans may not see (especially given the time restraints) and being able to constantly adapt to new deception patterns.\n",
    "\n",
    "During the initial preprocessing, we cut down the dataset by removing any headers that had fewer than 10% occurance rates in both spam and legitimate emails (referred to has HAM), combining headers that were addressing the same information but with different names under standardized labels, and removing any headers that would not exist in our application domain. For instance, honeypots may add tracking information and spam analysis while enron emails may include the bcc header (blind carbon copy). When attempting to detect inbound spam neither of these will be available for our model to analyze. In this phase, we soon realized that our spam data was much more diverse in time created, content type, and author than our ham data; which was relatively uniform in its overall construction. To ensure that trends that identify ham were not merely a consequence of our particular dataset, we added approximately 22000 emails to the ham dataset from the Democratic National Committee.\n",
    "\n",
    "Part of this process is detailed below. As the output shows, some of the emails are excessively large (greater than 5 standard deviations)"
   ]
  },
  {
   "cell_type": "code",
   "execution_count": 8,
   "metadata": {
    "collapsed": false
   },
   "outputs": [],
   "source": [
    "import glob\n",
    "import os\n",
    "import numpy as np\n",
    "import pandas as pd\n",
    "import seaborn as sb\n",
    "import matplotlib.pyplot as plt\n",
    "%matplotlib inline"
   ]
  },
  {
   "cell_type": "code",
   "execution_count": 2,
   "metadata": {
    "collapsed": false
   },
   "outputs": [
    {
     "name": "stdout",
     "output_type": "stream",
     "text": [
      "average= nan\n"
     ]
    },
    {
     "name": "stderr",
     "output_type": "stream",
     "text": [
      "/Library/Frameworks/Python.framework/Versions/3.5/lib/python3.5/site-packages/numpy/core/_methods.py:59: RuntimeWarning: Mean of empty slice.\n",
      "  warnings.warn(\"Mean of empty slice.\", RuntimeWarning)\n"
     ]
    },
    {
     "ename": "ValueError",
     "evalue": "zero-size array to reduction operation maximum which has no identity",
     "output_type": "error",
     "traceback": [
      "\u001b[0;31m---------------------------------------------------------------------------\u001b[0m",
      "\u001b[0;31mAttributeError\u001b[0m                            Traceback (most recent call last)",
      "\u001b[0;32m/Library/Frameworks/Python.framework/Versions/3.5/lib/python3.5/site-packages/numpy/core/fromnumeric.py\u001b[0m in \u001b[0;36mamax\u001b[0;34m(a, axis, out, keepdims)\u001b[0m\n\u001b[1;32m   2259\u001b[0m         \u001b[0;32mtry\u001b[0m\u001b[0;34m:\u001b[0m\u001b[0;34m\u001b[0m\u001b[0m\n\u001b[0;32m-> 2260\u001b[0;31m             \u001b[0mamax\u001b[0m \u001b[0;34m=\u001b[0m \u001b[0ma\u001b[0m\u001b[0;34m.\u001b[0m\u001b[0mmax\u001b[0m\u001b[0;34m\u001b[0m\u001b[0m\n\u001b[0m\u001b[1;32m   2261\u001b[0m         \u001b[0;32mexcept\u001b[0m \u001b[0mAttributeError\u001b[0m\u001b[0;34m:\u001b[0m\u001b[0;34m\u001b[0m\u001b[0m\n",
      "\u001b[0;31mAttributeError\u001b[0m: 'list' object has no attribute 'max'",
      "\nDuring handling of the above exception, another exception occurred:\n",
      "\u001b[0;31mValueError\u001b[0m                                Traceback (most recent call last)",
      "\u001b[0;32m<ipython-input-2-9fbade839fd8>\u001b[0m in \u001b[0;36m<module>\u001b[0;34m()\u001b[0m\n\u001b[1;32m      8\u001b[0m         \u001b[0mfileSize\u001b[0m\u001b[0;34m.\u001b[0m\u001b[0mappend\u001b[0m\u001b[0;34m(\u001b[0m\u001b[0mos\u001b[0m\u001b[0;34m.\u001b[0m\u001b[0mpath\u001b[0m\u001b[0;34m.\u001b[0m\u001b[0mgetsize\u001b[0m\u001b[0;34m(\u001b[0m\u001b[0mpath\u001b[0m\u001b[0;34m)\u001b[0m\u001b[0;34m/\u001b[0m\u001b[0;36m1024\u001b[0m\u001b[0;34m)\u001b[0m\u001b[0;34m\u001b[0m\u001b[0m\n\u001b[1;32m      9\u001b[0m \u001b[0mprint\u001b[0m\u001b[0;34m(\u001b[0m\u001b[0;34m\"average=\"\u001b[0m\u001b[0;34m,\u001b[0m \u001b[0mnp\u001b[0m\u001b[0;34m.\u001b[0m\u001b[0mmean\u001b[0m\u001b[0;34m(\u001b[0m\u001b[0mfileSize\u001b[0m\u001b[0;34m)\u001b[0m\u001b[0;34m)\u001b[0m\u001b[0;34m\u001b[0m\u001b[0m\n\u001b[0;32m---> 10\u001b[0;31m \u001b[0mprint\u001b[0m\u001b[0;34m(\u001b[0m\u001b[0;34m\"max=\"\u001b[0m\u001b[0;34m,\u001b[0m \u001b[0mnp\u001b[0m\u001b[0;34m.\u001b[0m\u001b[0mmax\u001b[0m\u001b[0;34m(\u001b[0m\u001b[0mfileSize\u001b[0m\u001b[0;34m)\u001b[0m\u001b[0;34m)\u001b[0m\u001b[0;34m\u001b[0m\u001b[0m\n\u001b[0m\u001b[1;32m     11\u001b[0m \u001b[0mprint\u001b[0m\u001b[0;34m(\u001b[0m\u001b[0;34m\"min=\"\u001b[0m\u001b[0;34m,\u001b[0m \u001b[0mnp\u001b[0m\u001b[0;34m.\u001b[0m\u001b[0mmin\u001b[0m\u001b[0;34m(\u001b[0m\u001b[0mfileSize\u001b[0m\u001b[0;34m)\u001b[0m\u001b[0;34m)\u001b[0m\u001b[0;34m\u001b[0m\u001b[0m\n\u001b[1;32m     12\u001b[0m \u001b[0mprint\u001b[0m\u001b[0;34m(\u001b[0m\u001b[0;34m\"std=\"\u001b[0m\u001b[0;34m,\u001b[0m \u001b[0mnp\u001b[0m\u001b[0;34m.\u001b[0m\u001b[0mstd\u001b[0m\u001b[0;34m(\u001b[0m\u001b[0mfileSize\u001b[0m\u001b[0;34m)\u001b[0m\u001b[0;34m)\u001b[0m\u001b[0;34m\u001b[0m\u001b[0m\n",
      "\u001b[0;32m/Library/Frameworks/Python.framework/Versions/3.5/lib/python3.5/site-packages/numpy/core/fromnumeric.py\u001b[0m in \u001b[0;36mamax\u001b[0;34m(a, axis, out, keepdims)\u001b[0m\n\u001b[1;32m   2261\u001b[0m         \u001b[0;32mexcept\u001b[0m \u001b[0mAttributeError\u001b[0m\u001b[0;34m:\u001b[0m\u001b[0;34m\u001b[0m\u001b[0m\n\u001b[1;32m   2262\u001b[0m             return _methods._amax(a, axis=axis,\n\u001b[0;32m-> 2263\u001b[0;31m                                   out=out, keepdims=keepdims)\n\u001b[0m\u001b[1;32m   2264\u001b[0m         \u001b[0;31m# NOTE: Dropping the keepdims parameter\u001b[0m\u001b[0;34m\u001b[0m\u001b[0;34m\u001b[0m\u001b[0m\n\u001b[1;32m   2265\u001b[0m         \u001b[0;32mreturn\u001b[0m \u001b[0mamax\u001b[0m\u001b[0;34m(\u001b[0m\u001b[0maxis\u001b[0m\u001b[0;34m=\u001b[0m\u001b[0maxis\u001b[0m\u001b[0;34m,\u001b[0m \u001b[0mout\u001b[0m\u001b[0;34m=\u001b[0m\u001b[0mout\u001b[0m\u001b[0;34m)\u001b[0m\u001b[0;34m\u001b[0m\u001b[0m\n",
      "\u001b[0;32m/Library/Frameworks/Python.framework/Versions/3.5/lib/python3.5/site-packages/numpy/core/_methods.py\u001b[0m in \u001b[0;36m_amax\u001b[0;34m(a, axis, out, keepdims)\u001b[0m\n\u001b[1;32m     24\u001b[0m \u001b[0;31m# small reductions\u001b[0m\u001b[0;34m\u001b[0m\u001b[0;34m\u001b[0m\u001b[0m\n\u001b[1;32m     25\u001b[0m \u001b[0;32mdef\u001b[0m \u001b[0m_amax\u001b[0m\u001b[0;34m(\u001b[0m\u001b[0ma\u001b[0m\u001b[0;34m,\u001b[0m \u001b[0maxis\u001b[0m\u001b[0;34m=\u001b[0m\u001b[0;32mNone\u001b[0m\u001b[0;34m,\u001b[0m \u001b[0mout\u001b[0m\u001b[0;34m=\u001b[0m\u001b[0;32mNone\u001b[0m\u001b[0;34m,\u001b[0m \u001b[0mkeepdims\u001b[0m\u001b[0;34m=\u001b[0m\u001b[0;32mFalse\u001b[0m\u001b[0;34m)\u001b[0m\u001b[0;34m:\u001b[0m\u001b[0;34m\u001b[0m\u001b[0m\n\u001b[0;32m---> 26\u001b[0;31m     \u001b[0;32mreturn\u001b[0m \u001b[0mumr_maximum\u001b[0m\u001b[0;34m(\u001b[0m\u001b[0ma\u001b[0m\u001b[0;34m,\u001b[0m \u001b[0maxis\u001b[0m\u001b[0;34m,\u001b[0m \u001b[0;32mNone\u001b[0m\u001b[0;34m,\u001b[0m \u001b[0mout\u001b[0m\u001b[0;34m,\u001b[0m \u001b[0mkeepdims\u001b[0m\u001b[0;34m)\u001b[0m\u001b[0;34m\u001b[0m\u001b[0m\n\u001b[0m\u001b[1;32m     27\u001b[0m \u001b[0;34m\u001b[0m\u001b[0m\n\u001b[1;32m     28\u001b[0m \u001b[0;32mdef\u001b[0m \u001b[0m_amin\u001b[0m\u001b[0;34m(\u001b[0m\u001b[0ma\u001b[0m\u001b[0;34m,\u001b[0m \u001b[0maxis\u001b[0m\u001b[0;34m=\u001b[0m\u001b[0;32mNone\u001b[0m\u001b[0;34m,\u001b[0m \u001b[0mout\u001b[0m\u001b[0;34m=\u001b[0m\u001b[0;32mNone\u001b[0m\u001b[0;34m,\u001b[0m \u001b[0mkeepdims\u001b[0m\u001b[0;34m=\u001b[0m\u001b[0;32mFalse\u001b[0m\u001b[0;34m)\u001b[0m\u001b[0;34m:\u001b[0m\u001b[0;34m\u001b[0m\u001b[0m\n",
      "\u001b[0;31mValueError\u001b[0m: zero-size array to reduction operation maximum which has no identity"
     ]
    }
   ],
   "source": [
    "%matplotlib inline\n",
    "fileSize=[]\n",
    "ham_paths = [x for x in glob.iglob('../sizeOfE/raw data/HAM/**', recursive=True) if os.path.isfile(x)]\n",
    "spam_paths = [x for x in glob.iglob('../sizeOfE/raw data/SPAM/**', recursive=True) if os.path.isfile(x)]\n",
    "for path in ham_paths:\n",
    "        fileSize.append(os.path.getsize(path)/1024)\n",
    "for path in spam_paths:\n",
    "        fileSize.append(os.path.getsize(path)/1024)\n",
    "print(\"average=\", np.mean(fileSize))\n",
    "print(\"max=\", np.max(fileSize))\n",
    "print(\"min=\", np.min(fileSize))\n",
    "print(\"std=\", np.std(fileSize))      \n",
    "df = pd.DataFrame(fileSize,columns=[\"size\"])\n",
    "df.hist(bins=20)"
   ]
  },
  {
   "cell_type": "code",
   "execution_count": 3,
   "metadata": {
    "collapsed": false
   },
   "outputs": [
    {
     "name": "stdout",
     "output_type": "stream",
     "text": [
      "average= nan\n"
     ]
    },
    {
     "name": "stderr",
     "output_type": "stream",
     "text": [
      "/Library/Frameworks/Python.framework/Versions/3.5/lib/python3.5/site-packages/numpy/core/_methods.py:59: RuntimeWarning: Mean of empty slice.\n",
      "  warnings.warn(\"Mean of empty slice.\", RuntimeWarning)\n"
     ]
    },
    {
     "ename": "ValueError",
     "evalue": "zero-size array to reduction operation maximum which has no identity",
     "output_type": "error",
     "traceback": [
      "\u001b[0;31m---------------------------------------------------------------------------\u001b[0m",
      "\u001b[0;31mAttributeError\u001b[0m                            Traceback (most recent call last)",
      "\u001b[0;32m/Library/Frameworks/Python.framework/Versions/3.5/lib/python3.5/site-packages/numpy/core/fromnumeric.py\u001b[0m in \u001b[0;36mamax\u001b[0;34m(a, axis, out, keepdims)\u001b[0m\n\u001b[1;32m   2259\u001b[0m         \u001b[0;32mtry\u001b[0m\u001b[0;34m:\u001b[0m\u001b[0;34m\u001b[0m\u001b[0m\n\u001b[0;32m-> 2260\u001b[0;31m             \u001b[0mamax\u001b[0m \u001b[0;34m=\u001b[0m \u001b[0ma\u001b[0m\u001b[0;34m.\u001b[0m\u001b[0mmax\u001b[0m\u001b[0;34m\u001b[0m\u001b[0m\n\u001b[0m\u001b[1;32m   2261\u001b[0m         \u001b[0;32mexcept\u001b[0m \u001b[0mAttributeError\u001b[0m\u001b[0;34m:\u001b[0m\u001b[0;34m\u001b[0m\u001b[0m\n",
      "\u001b[0;31mAttributeError\u001b[0m: 'list' object has no attribute 'max'",
      "\nDuring handling of the above exception, another exception occurred:\n",
      "\u001b[0;31mValueError\u001b[0m                                Traceback (most recent call last)",
      "\u001b[0;32m<ipython-input-3-f9758fb483b7>\u001b[0m in \u001b[0;36m<module>\u001b[0;34m()\u001b[0m\n\u001b[1;32m     11\u001b[0m         \u001b[0mfileSize2\u001b[0m\u001b[0;34m.\u001b[0m\u001b[0mappend\u001b[0m\u001b[0;34m(\u001b[0m\u001b[0msize\u001b[0m\u001b[0;34m)\u001b[0m\u001b[0;34m\u001b[0m\u001b[0m\n\u001b[1;32m     12\u001b[0m \u001b[0mprint\u001b[0m\u001b[0;34m(\u001b[0m\u001b[0;34m\"average=\"\u001b[0m\u001b[0;34m,\u001b[0m \u001b[0mnp\u001b[0m\u001b[0;34m.\u001b[0m\u001b[0mmean\u001b[0m\u001b[0;34m(\u001b[0m\u001b[0mfileSize2\u001b[0m\u001b[0;34m)\u001b[0m\u001b[0;34m)\u001b[0m\u001b[0;34m\u001b[0m\u001b[0m\n\u001b[0;32m---> 13\u001b[0;31m \u001b[0mprint\u001b[0m\u001b[0;34m(\u001b[0m\u001b[0;34m\"max=\"\u001b[0m\u001b[0;34m,\u001b[0m \u001b[0mnp\u001b[0m\u001b[0;34m.\u001b[0m\u001b[0mmax\u001b[0m\u001b[0;34m(\u001b[0m\u001b[0mfileSize2\u001b[0m\u001b[0;34m)\u001b[0m\u001b[0;34m)\u001b[0m\u001b[0;34m\u001b[0m\u001b[0m\n\u001b[0m\u001b[1;32m     14\u001b[0m \u001b[0mprint\u001b[0m\u001b[0;34m(\u001b[0m\u001b[0;34m\"min=\"\u001b[0m\u001b[0;34m,\u001b[0m \u001b[0mnp\u001b[0m\u001b[0;34m.\u001b[0m\u001b[0mmin\u001b[0m\u001b[0;34m(\u001b[0m\u001b[0mfileSize2\u001b[0m\u001b[0;34m)\u001b[0m\u001b[0;34m)\u001b[0m\u001b[0;34m\u001b[0m\u001b[0m\n\u001b[1;32m     15\u001b[0m \u001b[0mprint\u001b[0m\u001b[0;34m(\u001b[0m\u001b[0;34m\"std=\"\u001b[0m\u001b[0;34m,\u001b[0m \u001b[0mnp\u001b[0m\u001b[0;34m.\u001b[0m\u001b[0mstd\u001b[0m\u001b[0;34m(\u001b[0m\u001b[0mfileSize2\u001b[0m\u001b[0;34m)\u001b[0m\u001b[0;34m)\u001b[0m\u001b[0;34m\u001b[0m\u001b[0m\n",
      "\u001b[0;32m/Library/Frameworks/Python.framework/Versions/3.5/lib/python3.5/site-packages/numpy/core/fromnumeric.py\u001b[0m in \u001b[0;36mamax\u001b[0;34m(a, axis, out, keepdims)\u001b[0m\n\u001b[1;32m   2261\u001b[0m         \u001b[0;32mexcept\u001b[0m \u001b[0mAttributeError\u001b[0m\u001b[0;34m:\u001b[0m\u001b[0;34m\u001b[0m\u001b[0m\n\u001b[1;32m   2262\u001b[0m             return _methods._amax(a, axis=axis,\n\u001b[0;32m-> 2263\u001b[0;31m                                   out=out, keepdims=keepdims)\n\u001b[0m\u001b[1;32m   2264\u001b[0m         \u001b[0;31m# NOTE: Dropping the keepdims parameter\u001b[0m\u001b[0;34m\u001b[0m\u001b[0;34m\u001b[0m\u001b[0m\n\u001b[1;32m   2265\u001b[0m         \u001b[0;32mreturn\u001b[0m \u001b[0mamax\u001b[0m\u001b[0;34m(\u001b[0m\u001b[0maxis\u001b[0m\u001b[0;34m=\u001b[0m\u001b[0maxis\u001b[0m\u001b[0;34m,\u001b[0m \u001b[0mout\u001b[0m\u001b[0;34m=\u001b[0m\u001b[0mout\u001b[0m\u001b[0;34m)\u001b[0m\u001b[0;34m\u001b[0m\u001b[0m\n",
      "\u001b[0;32m/Library/Frameworks/Python.framework/Versions/3.5/lib/python3.5/site-packages/numpy/core/_methods.py\u001b[0m in \u001b[0;36m_amax\u001b[0;34m(a, axis, out, keepdims)\u001b[0m\n\u001b[1;32m     24\u001b[0m \u001b[0;31m# small reductions\u001b[0m\u001b[0;34m\u001b[0m\u001b[0;34m\u001b[0m\u001b[0m\n\u001b[1;32m     25\u001b[0m \u001b[0;32mdef\u001b[0m \u001b[0m_amax\u001b[0m\u001b[0;34m(\u001b[0m\u001b[0ma\u001b[0m\u001b[0;34m,\u001b[0m \u001b[0maxis\u001b[0m\u001b[0;34m=\u001b[0m\u001b[0;32mNone\u001b[0m\u001b[0;34m,\u001b[0m \u001b[0mout\u001b[0m\u001b[0;34m=\u001b[0m\u001b[0;32mNone\u001b[0m\u001b[0;34m,\u001b[0m \u001b[0mkeepdims\u001b[0m\u001b[0;34m=\u001b[0m\u001b[0;32mFalse\u001b[0m\u001b[0;34m)\u001b[0m\u001b[0;34m:\u001b[0m\u001b[0;34m\u001b[0m\u001b[0m\n\u001b[0;32m---> 26\u001b[0;31m     \u001b[0;32mreturn\u001b[0m \u001b[0mumr_maximum\u001b[0m\u001b[0;34m(\u001b[0m\u001b[0ma\u001b[0m\u001b[0;34m,\u001b[0m \u001b[0maxis\u001b[0m\u001b[0;34m,\u001b[0m \u001b[0;32mNone\u001b[0m\u001b[0;34m,\u001b[0m \u001b[0mout\u001b[0m\u001b[0;34m,\u001b[0m \u001b[0mkeepdims\u001b[0m\u001b[0;34m)\u001b[0m\u001b[0;34m\u001b[0m\u001b[0m\n\u001b[0m\u001b[1;32m     27\u001b[0m \u001b[0;34m\u001b[0m\u001b[0m\n\u001b[1;32m     28\u001b[0m \u001b[0;32mdef\u001b[0m \u001b[0m_amin\u001b[0m\u001b[0;34m(\u001b[0m\u001b[0ma\u001b[0m\u001b[0;34m,\u001b[0m \u001b[0maxis\u001b[0m\u001b[0;34m=\u001b[0m\u001b[0;32mNone\u001b[0m\u001b[0;34m,\u001b[0m \u001b[0mout\u001b[0m\u001b[0;34m=\u001b[0m\u001b[0;32mNone\u001b[0m\u001b[0;34m,\u001b[0m \u001b[0mkeepdims\u001b[0m\u001b[0;34m=\u001b[0m\u001b[0;32mFalse\u001b[0m\u001b[0;34m)\u001b[0m\u001b[0;34m:\u001b[0m\u001b[0;34m\u001b[0m\u001b[0m\n",
      "\u001b[0;31mValueError\u001b[0m: zero-size array to reduction operation maximum which has no identity"
     ]
    }
   ],
   "source": [
    "fileSize2=[]\n",
    "ham_paths2 = [x for x in glob.iglob('../sizeOfE/raw data/HAM/**', recursive=True) if os.path.isfile(x)]\n",
    "spam_paths2 = [x for x in glob.iglob('../sizeOfE/raw data/SPAM/**', recursive=True) if os.path.isfile(x)]\n",
    "for path in ham_paths2:\n",
    "    size = os.path.getsize(path)/1024\n",
    "    if size < 750:\n",
    "        fileSize2.append(size)\n",
    "for path in spam_paths2:\n",
    "    size = os.path.getsize(path)/1024\n",
    "    if size < 750:\n",
    "        fileSize2.append(size)\n",
    "print(\"average=\", np.mean(fileSize2))\n",
    "print(\"max=\", np.max(fileSize2))\n",
    "print(\"min=\", np.min(fileSize2))\n",
    "print(\"std=\", np.std(fileSize2))      \n",
    "df2 = pd.DataFrame(fileSize2,columns=[\"size\"])\n",
    "df2.hist(bins=10)"
   ]
  },
  {
   "cell_type": "markdown",
   "metadata": {},
   "source": [
    "These extremely large emails (greater than 2.5 standard deviations) were not representative of the group and added significant proccessing time to our scripts. Removing them allows CPU time to be better utilize computing additional metrics on the rest of the data\n",
    "\n",
    "Satisfied with our dataset, we developed a python script that would identify attributes by parsing the raw email headers. We continued by parsing the sender information, subjects, and message payloads utilizing the opensource python modules \"textstat\" and \"fuzzywuzzy\" to measure similarities between different sections of the email and general language analysis. Parsing the bodies required filtering them by their content type and content encoding headers. We focused on the \"text/plain\" and \"text/html\" content types, decoding any base64 text and extracting strings from any HTML."
   ]
  },
  {
   "cell_type": "code",
   "execution_count": 9,
   "metadata": {
    "collapsed": false,
    "scrolled": true
   },
   "outputs": [
    {
     "name": "stdout",
     "output_type": "stream",
     "text": [
      "<class 'pandas.core.frame.DataFrame'>\n",
      "RangeIndex: 67542 entries, 0 to 67541\n",
      "Data columns (total 10 columns):\n",
      "multipart_count                         67542 non-null int64\n",
      "cc                                      67542 non-null bool\n",
      "kl_divergence_eng_lang_e                67542 non-null float64\n",
      "frm_fuzz_set_ratio                      67542 non-null float64\n",
      "is_spam                                 67542 non-null bool\n",
      "kl_divergence_eng_lang                  67542 non-null float64\n",
      "organization                            67542 non-null bool\n",
      "payload_smog_index                      67542 non-null float64\n",
      "payload_coleman_liau_index              67542 non-null float64\n",
      "payload_dale_chall_readability_score    67542 non-null float64\n",
      "dtypes: bool(3), float64(6), int64(1)\n",
      "memory usage: 3.8 MB\n"
     ]
    },
    {
     "data": {
      "text/html": [
       "<div>\n",
       "<table border=\"1\" class=\"dataframe\">\n",
       "  <thead>\n",
       "    <tr style=\"text-align: right;\">\n",
       "      <th></th>\n",
       "      <th>multipart_count</th>\n",
       "      <th>cc</th>\n",
       "      <th>kl_divergence_eng_lang_e</th>\n",
       "      <th>frm_fuzz_set_ratio</th>\n",
       "      <th>is_spam</th>\n",
       "      <th>kl_divergence_eng_lang</th>\n",
       "      <th>organization</th>\n",
       "      <th>payload_smog_index</th>\n",
       "      <th>payload_coleman_liau_index</th>\n",
       "      <th>payload_dale_chall_readability_score</th>\n",
       "    </tr>\n",
       "  </thead>\n",
       "  <tbody>\n",
       "    <tr>\n",
       "      <th>0</th>\n",
       "      <td>0</td>\n",
       "      <td>True</td>\n",
       "      <td>11.453942</td>\n",
       "      <td>93.0</td>\n",
       "      <td>False</td>\n",
       "      <td>16.524546</td>\n",
       "      <td>False</td>\n",
       "      <td>9.6</td>\n",
       "      <td>13.29</td>\n",
       "      <td>10.14</td>\n",
       "    </tr>\n",
       "    <tr>\n",
       "      <th>1</th>\n",
       "      <td>0</td>\n",
       "      <td>True</td>\n",
       "      <td>11.115775</td>\n",
       "      <td>100.0</td>\n",
       "      <td>False</td>\n",
       "      <td>16.036674</td>\n",
       "      <td>False</td>\n",
       "      <td>11.2</td>\n",
       "      <td>20.42</td>\n",
       "      <td>10.03</td>\n",
       "    </tr>\n",
       "    <tr>\n",
       "      <th>2</th>\n",
       "      <td>0</td>\n",
       "      <td>True</td>\n",
       "      <td>11.793050</td>\n",
       "      <td>100.0</td>\n",
       "      <td>False</td>\n",
       "      <td>17.013774</td>\n",
       "      <td>False</td>\n",
       "      <td>6.9</td>\n",
       "      <td>10.36</td>\n",
       "      <td>9.59</td>\n",
       "    </tr>\n",
       "    <tr>\n",
       "      <th>3</th>\n",
       "      <td>0</td>\n",
       "      <td>True</td>\n",
       "      <td>11.647540</td>\n",
       "      <td>100.0</td>\n",
       "      <td>False</td>\n",
       "      <td>16.803848</td>\n",
       "      <td>False</td>\n",
       "      <td>10.4</td>\n",
       "      <td>13.63</td>\n",
       "      <td>10.18</td>\n",
       "    </tr>\n",
       "    <tr>\n",
       "      <th>4</th>\n",
       "      <td>0</td>\n",
       "      <td>True</td>\n",
       "      <td>10.775279</td>\n",
       "      <td>92.0</td>\n",
       "      <td>False</td>\n",
       "      <td>15.545441</td>\n",
       "      <td>False</td>\n",
       "      <td>11.8</td>\n",
       "      <td>22.85</td>\n",
       "      <td>10.53</td>\n",
       "    </tr>\n",
       "  </tbody>\n",
       "</table>\n",
       "</div>"
      ],
      "text/plain": [
       "   multipart_count    cc  kl_divergence_eng_lang_e  frm_fuzz_set_ratio  \\\n",
       "0                0  True                 11.453942                93.0   \n",
       "1                0  True                 11.115775               100.0   \n",
       "2                0  True                 11.793050               100.0   \n",
       "3                0  True                 11.647540               100.0   \n",
       "4                0  True                 10.775279                92.0   \n",
       "\n",
       "  is_spam  kl_divergence_eng_lang organization  payload_smog_index  \\\n",
       "0   False               16.524546        False                 9.6   \n",
       "1   False               16.036674        False                11.2   \n",
       "2   False               17.013774        False                 6.9   \n",
       "3   False               16.803848        False                10.4   \n",
       "4   False               15.545441        False                11.8   \n",
       "\n",
       "   payload_coleman_liau_index  payload_dale_chall_readability_score  \n",
       "0                       13.29                                 10.14  \n",
       "1                       20.42                                 10.03  \n",
       "2                       10.36                                  9.59  \n",
       "3                       13.63                                 10.18  \n",
       "4                       22.85                                 10.53  "
      ]
     },
     "execution_count": 9,
     "metadata": {},
     "output_type": "execute_result"
    }
   ],
   "source": [
    "df=pd.read_csv('./parsed data/table.csv')\n",
    "df.head()\n",
    "df.info()\n",
    "df.head()"
   ]
  },
  {
   "cell_type": "code",
   "execution_count": 10,
   "metadata": {
    "collapsed": false
   },
   "outputs": [
    {
     "data": {
      "text/plain": [
       "<matplotlib.axes._subplots.AxesSubplot at 0x1098c9da0>"
      ]
     },
     "execution_count": 10,
     "metadata": {},
     "output_type": "execute_result"
    },
    {
     "data": {
      "image/png": "[encoded data removed]",
      "text/plain": [
       "<matplotlib.figure.Figure at 0x108e88e80>"
      ]
     },
     "metadata": {},
     "output_type": "display_data"
    }
   ],
   "source": [
    "spam_t=0\n",
    "spam_f=0\n",
    "ham_t=0\n",
    "ham_f=0\n",
    "for i in range(df.cc.count()):\n",
    "    if df.is_spam[i]:\n",
    "        if df.cc[i]:\n",
    "            spam_t += 1\n",
    "        else:\n",
    "            spam_f += 1\n",
    "    else:\n",
    "        if df.cc[i]:\n",
    "            ham_t += 1\n",
    "        else:\n",
    "            ham_f += 1\n",
    "\n",
    "sb.barplot( x=['SPAM+CC','SPAM-CC','HAM+CC','HAM-CC'],y=[spam_t, spam_f, ham_t, ham_f])"
   ]
  },
  {
   "cell_type": "markdown",
   "metadata": {},
   "source": [
    "We decided to create a heatmap of the correlation plots to see what attributes of our data correlate well with spam. We found that cc has a very strong negative correlation(-.75) with spam. We expected that because cc isn’t very likely to appear in SPAM. We also found that spam has a negative correlation with whether or not an email was sent from an organization(.53), which makes sense because a lot of our email data set included emails from the DNC. The smog index we calculated for the payload is positively correlated with spam, which means that spam has a higher score on the smog index. This means that SPAM is likely be harder to read than HAM. We won’t mention the other correlations because most of the attributes that are correlated measure scores for the same attributes using different formulas."
   ]
  },
  {
   "cell_type": "code",
   "execution_count": 11,
   "metadata": {
    "collapsed": false
   },
   "outputs": [
    {
     "data": {
      "image/png": "[encoded data removed]",
      "text/plain": [
       "<matplotlib.figure.Figure at 0x10a3b3d30>"
      ]
     },
     "metadata": {},
     "output_type": "display_data"
    }
   ],
   "source": [
    "sb.set(style=\"whitegrid\") # one of the many styles to plot using\n",
    "cmap = sb.diverging_palette(220, 10, as_cmap=True)\n",
    "f, ax = plt.subplots(figsize=(20, 20))\n",
    "\n",
    "df2 = df[(df.T != -1).all()]\n",
    "\n",
    "corr = df2.corr()\n",
    "\n",
    "# Generate a mask for the upper triangle\n",
    "mask = np.zeros_like(corr, dtype=np.bool)\n",
    "mask[np.triu_indices_from(mask)] = True\n",
    "\n",
    "\n",
    "sb.heatmap(corr, mask=mask, cmap=cmap, annot=True)\n",
    "f.tight_layout()"
   ]
  },
  {
   "cell_type": "code",
   "execution_count": 11,
   "metadata": {
    "collapsed": false
   },
   "outputs": [
    {
     "data": {
      "text/plain": [
       "<matplotlib.axes._subplots.AxesSubplot at 0x10ac45ef0>"
      ]
     },
     "execution_count": 11,
     "metadata": {},
     "output_type": "execute_result"
    }
   ],
   "source": [
    "sb.violinplot( x=\"is_spam\",y=\"payload_smog_index\" , data=df, \n",
    "               split=True, inner=\"quart\")"
   ]
  },
  {
   "cell_type": "code",
   "execution_count": 10,
   "metadata": {
    "collapsed": false
   },
   "outputs": [
    {
     "data": {
      "text/plain": [
       "<matplotlib.axes._subplots.AxesSubplot at 0x10ac45ef0>"
      ]
     },
     "execution_count": 10,
     "metadata": {},
     "output_type": "execute_result"
    }
   ],
   "source": [
    "spam_t=0\n",
    "spam_f=0\n",
    "ham_t=0\n",
    "ham_f=0\n",
    "for i in range(df.cc.count()):\n",
    "    if df.is_spam[i]:\n",
    "        if df.organization[i]:\n",
    "            spam_t += 1\n",
    "        else:\n",
    "            spam_f += 1\n",
    "    else:\n",
    "        if df.organization[i]:\n",
    "            ham_t += 1\n",
    "        else:\n",
    "            ham_f += 1\n",
    "\n",
    "sb.barplot( x=['SPAM+ORG','SPAM-ORG','HAM+ORG','HAM-ORG'],y=[spam_t, spam_f, ham_t, ham_f])"
   ]
  },
  {
   "cell_type": "code",
   "execution_count": 6,
   "metadata": {
    "collapsed": false,
    "scrolled": true
   },
   "outputs": [
    {
     "ename": "AttributeError",
     "evalue": "'DataFrame' object has no attribute 'importance'",
     "output_type": "error",
     "traceback": [
      "\u001b[0;31m---------------------------------------------------------------------------\u001b[0m",
      "\u001b[0;31mAttributeError\u001b[0m                            Traceback (most recent call last)",
      "\u001b[0;32m<ipython-input-6-217322b738d3>\u001b[0m in \u001b[0;36m<module>\u001b[0;34m()\u001b[0m\n\u001b[1;32m      7\u001b[0m \u001b[0;34m\u001b[0m\u001b[0m\n\u001b[1;32m      8\u001b[0m \u001b[0;32mfor\u001b[0m \u001b[0mi\u001b[0m \u001b[0;32min\u001b[0m \u001b[0mrange\u001b[0m\u001b[0;34m(\u001b[0m\u001b[0mdf\u001b[0m\u001b[0;34m.\u001b[0m\u001b[0mcc\u001b[0m\u001b[0;34m.\u001b[0m\u001b[0mcount\u001b[0m\u001b[0;34m(\u001b[0m\u001b[0;34m)\u001b[0m\u001b[0;34m)\u001b[0m\u001b[0;34m:\u001b[0m\u001b[0;34m\u001b[0m\u001b[0m\n\u001b[0;32m----> 9\u001b[0;31m     \u001b[0;32mif\u001b[0m \u001b[0;34m'no'\u001b[0m \u001b[0;32min\u001b[0m \u001b[0mdf\u001b[0m\u001b[0;34m.\u001b[0m\u001b[0mimportance\u001b[0m\u001b[0;34m[\u001b[0m\u001b[0mi\u001b[0m\u001b[0;34m]\u001b[0m\u001b[0;34m:\u001b[0m\u001b[0;34m\u001b[0m\u001b[0m\n\u001b[0m\u001b[1;32m     10\u001b[0m         \u001b[0mno\u001b[0m \u001b[0;34m+=\u001b[0m \u001b[0;36m1\u001b[0m\u001b[0;34m\u001b[0m\u001b[0m\n\u001b[1;32m     11\u001b[0m     \u001b[0;32melif\u001b[0m \u001b[0;34m'li'\u001b[0m \u001b[0;32min\u001b[0m \u001b[0mdf\u001b[0m\u001b[0;34m.\u001b[0m\u001b[0mimportance\u001b[0m\u001b[0;34m[\u001b[0m\u001b[0mi\u001b[0m\u001b[0;34m]\u001b[0m\u001b[0;34m:\u001b[0m\u001b[0;34m\u001b[0m\u001b[0m\n",
      "\u001b[0;32m/Library/Frameworks/Python.framework/Versions/3.5/lib/python3.5/site-packages/pandas/core/generic.py\u001b[0m in \u001b[0;36m__getattr__\u001b[0;34m(self, name)\u001b[0m\n\u001b[1;32m   2670\u001b[0m             \u001b[0;32mif\u001b[0m \u001b[0mname\u001b[0m \u001b[0;32min\u001b[0m \u001b[0mself\u001b[0m\u001b[0;34m.\u001b[0m\u001b[0m_info_axis\u001b[0m\u001b[0;34m:\u001b[0m\u001b[0;34m\u001b[0m\u001b[0m\n\u001b[1;32m   2671\u001b[0m                 \u001b[0;32mreturn\u001b[0m \u001b[0mself\u001b[0m\u001b[0;34m[\u001b[0m\u001b[0mname\u001b[0m\u001b[0;34m]\u001b[0m\u001b[0;34m\u001b[0m\u001b[0m\n\u001b[0;32m-> 2672\u001b[0;31m             \u001b[0;32mreturn\u001b[0m \u001b[0mobject\u001b[0m\u001b[0;34m.\u001b[0m\u001b[0m__getattribute__\u001b[0m\u001b[0;34m(\u001b[0m\u001b[0mself\u001b[0m\u001b[0;34m,\u001b[0m \u001b[0mname\u001b[0m\u001b[0;34m)\u001b[0m\u001b[0;34m\u001b[0m\u001b[0m\n\u001b[0m\u001b[1;32m   2673\u001b[0m \u001b[0;34m\u001b[0m\u001b[0m\n\u001b[1;32m   2674\u001b[0m     \u001b[0;32mdef\u001b[0m \u001b[0m__setattr__\u001b[0m\u001b[0;34m(\u001b[0m\u001b[0mself\u001b[0m\u001b[0;34m,\u001b[0m \u001b[0mname\u001b[0m\u001b[0;34m,\u001b[0m \u001b[0mvalue\u001b[0m\u001b[0;34m)\u001b[0m\u001b[0;34m:\u001b[0m\u001b[0;34m\u001b[0m\u001b[0m\n",
      "\u001b[0;31mAttributeError\u001b[0m: 'DataFrame' object has no attribute 'importance'"
     ]
    }
   ],
   "source": [
    "no = 0\n",
    "li = 0\n",
    "hi = 0\n",
    "me = 0\n",
    "lo = 0\n",
    "inv= 0\n",
    "\n",
    "for i in range(df.cc.count()):\n",
    "    if 'no' in df.importance[i]:\n",
    "        no += 1\n",
    "    elif 'li' in df.importance[i]:\n",
    "        li += 1\n",
    "    elif 'hi' in df.importance[i]:\n",
    "        hi += 1\n",
    "    elif 'me' in df.importance[i]:\n",
    "        me += 1\n",
    "    elif 'lo' in df.importance[i]:\n",
    "        lo += 1\n",
    "    elif 'inv' in df.importance[i]:\n",
    "        inv += 1\n",
    "    else:\n",
    "        pass # print(df.importance[i])\n",
    "\n",
    "sb.barplot( x=['none','list','high','medium','low', 'invalid'],y=[no,li,hi,me,lo,inv])"
   ]
  },
  {
   "cell_type": "markdown",
   "metadata": {},
   "source": [
    "One feature that is currently missing from our dataset is an inverse frequency table of the words found in each message. Casual observation shows us that spam emails contain higher rates of very rare words and lower rates of common words. This is a result of them often being constructed with poor grammar, selling unusual products, using slang to market them, and including hidden patches of text with strange scentence of random nouns. Computing a frequency table for each method and comparing it with an english word frequency table from a large corpus of print and online media has the potential to identify these charactersitics of spam relatively simply. These tables are available online and would be trivial to include in our statistic computations."
   ]
  },
  {
   "cell_type": "code",
   "execution_count": 3,
   "metadata": {
    "collapsed": false
   },
   "outputs": [],
   "source": [
    "freq_table = {}\n",
    "word_count = 0\n",
    "total_occurrences = 0\n",
    "with open('lib data/count_1w.txt') as freq:\n",
    "    for line in freq:\n",
    "        name, count = line.partition('\\t')[::2]\n",
    "        count = float(count[:-1])\n",
    "        freq_table[name.strip()] = count\n",
    "        word_count += 1\n",
    "        total_occurrences += count\n",
    "\n",
    "freq_mean = np.mean(list(freq_table.values()))\n",
    "freq_std = np.std(list(freq_table.values()))"
   ]
  },
  {
   "cell_type": "code",
   "execution_count": 4,
   "metadata": {
    "collapsed": true
   },
   "outputs": [],
   "source": [
    "temp = pd.Series(list(freq_table.values()))\n",
    "temp = pd.DataFrame({'x': temp.index,'y': temp})"
   ]
  },
  {
   "cell_type": "code",
   "execution_count": 5,
   "metadata": {
    "collapsed": false,
    "scrolled": false
   },
   "outputs": [
    {
     "data": {
      "text/plain": [
       "<matplotlib.axes._subplots.AxesSubplot at 0x1090746d8>"
      ]
     },
     "execution_count": 5,
     "metadata": {},
     "output_type": "execute_result"
    },
    {
     "data": {
      "image/png": "[encoded data removed]",
      "text/plain": [
       "<matplotlib.figure.Figure at 0x10c21e208>"
      ]
     },
     "metadata": {},
     "output_type": "display_data"
    }
   ],
   "source": [
    "sb.kdeplot(temp.y)"
   ]
  },
  {
   "cell_type": "code",
   "execution_count": 5,
   "metadata": {
    "collapsed": false
   },
   "outputs": [
    {
     "data": {
      "text/plain": [
       "<matplotlib.axes._subplots.AxesSubplot at 0x10bf6d668>"
      ]
     },
     "execution_count": 5,
     "metadata": {},
     "output_type": "execute_result"
    }
   ],
   "source": [
    "sb.kdeplot(temp.sample(frac=0.01).y)"
   ]
  },
  {
   "cell_type": "code",
   "execution_count": 6,
   "metadata": {
    "collapsed": false
   },
   "outputs": [
    {
     "name": "stdout",
     "output_type": "stream",
     "text": [
      "1.0853704565763473\n"
     ]
    }
   ],
   "source": [
    "    from scipy import log\n",
    "    from scipy.special import zeta\n",
    "    from scipy.optimize import bisect \n",
    "\n",
    "    xmin = 1\n",
    "    x = temp.y\n",
    "    n = len(temp.y)\n",
    "\n",
    "    def log_zeta(x):\n",
    "        return log(zeta(x, 1))\n",
    "\n",
    "    def log_deriv_zeta(x):\n",
    "        h = 1e-5\n",
    "        return (log_zeta(x+h) - log_zeta(x-h))/(2*h)\n",
    "\n",
    "    t = -sum( log(x/xmin) )/n\n",
    "    def objective(x):\n",
    "        return log_deriv_zeta(x) - t\n",
    "\n",
    "    a, b = 1.01, 10\n",
    "    alpha_hat = bisect(objective, a, b, xtol=1e-6)\n",
    "    print(alpha_hat)"
   ]
  },
  {
   "cell_type": "code",
   "execution_count": 7,
   "metadata": {
    "collapsed": false
   },
   "outputs": [
    {
     "name": "stdout",
     "output_type": "stream",
     "text": [
      "0.000147962606855\n"
     ]
    }
   ],
   "source": [
    "    from scipy.special import zeta\n",
    "    from scipy import sqrt\n",
    "\n",
    "    def zeta_prime(x, xmin=1):\n",
    "        h = 1e-5\n",
    "        return (zeta(x+h, xmin) - zeta(x-h, xmin))/(2*h)\n",
    "\n",
    "    def zeta_double_prime(x, xmin=1):\n",
    "        h = 1e-5\n",
    "        return (zeta(x+h, xmin) -2*zeta(x,xmin) + zeta(x-h, xmin))/h**2\n",
    "\n",
    "    def sigma(n, alpha_hat, xmin=1):\n",
    "        z = zeta(alpha_hat, xmin)\n",
    "        temp = zeta_double_prime(alpha_hat, xmin)/z\n",
    "        temp -= (zeta_prime(alpha_hat, xmin)/z)**2\n",
    "        return 1/sqrt(n*temp)\n",
    "\n",
    "    print( sigma(n, alpha_hat) )"
   ]
  },
  {
   "cell_type": "code",
   "execution_count": null,
   "metadata": {
    "collapsed": false
   },
   "outputs": [],
   "source": []
  },
  {
   "cell_type": "code",
   "execution_count": null,
   "metadata": {
    "collapsed": true
   },
   "outputs": [],
   "source": []
  },
  {
   "cell_type": "code",
   "execution_count": null,
   "metadata": {
    "collapsed": false
   },
   "outputs": [],
   "source": [
    "sb.violinplot( y='y', data=temp.sample(frac=0.005), \n",
    "               split=False, inner=\"quart\")"
   ]
  },
  {
   "cell_type": "code",
   "execution_count": 23,
   "metadata": {
    "collapsed": false
   },
   "outputs": [
    {
     "data": {
      "text/plain": [
       "<matplotlib.axes._subplots.AxesSubplot at 0x11c67aac8>"
      ]
     },
     "execution_count": 23,
     "metadata": {},
     "output_type": "execute_result"
    },
    {
     "data": {
      "image/png": "[encoded data removed]",
      "text/plain": [
       "<matplotlib.figure.Figure at 0x11c635518>"
      ]
     },
     "metadata": {},
     "output_type": "display_data"
    }
   ],
   "source": [
    "sb.boxplot(y='y', data=temp.sample(frac=0.001))"
   ]
  },
  {
   "cell_type": "markdown",
   "metadata": {},
   "source": [
    "## Preprocessing Code\n",
    "\n",
    "Our preprocessing consisted of three steps. Ingesting raw emails into a dictionary of email objects, filtering and manipulating the email objects, and computing statistics from them to be exported to a csv. These steps are completed by the scripts convert_to_email.py, build_table.py,  compute_stats.py respectively and are included below"
   ]
  },
  {
   "cell_type": "code",
   "execution_count": null,
   "metadata": {
    "collapsed": false
   },
   "outputs": [],
   "source": [
    "\n",
    "from email.parser import Parser\n",
    "import glob\n",
    "import os\n",
    "import pickle\n",
    "import datetime\n",
    "\n",
    "\n",
    "def cout(text):\n",
    "    print('[{:%Y-%m-%d %H:%M:%S}] %s'.format(datetime.datetime.now()) % text)\n",
    "\n",
    "cout('Getting file paths')\n",
    "\n",
    "# Get file names\n",
    "ham_paths = [x for x in glob.iglob('raw data/HAM/**', recursive=True) if os.path.isfile(x)]\n",
    "spam_paths = [x for x in glob.iglob('raw data/SPAM/**', recursive=True) if os.path.isfile(x)]\n",
    "\n",
    "cout('Allocating Memory')\n",
    "\n",
    "emails = {'ham': len(ham_paths)*[None], 'spam': len(spam_paths)*[None]}\n",
    "\n",
    "cout('Load and parse HAM')\n",
    "\n",
    "# Load ham files\n",
    "idx = 0\n",
    "for path in ham_paths:\n",
    "    with open(path, encoding='latin1') as fp:\n",
    "        emails['ham'][idx] = Parser().parse(fp)\n",
    "        idx += 1\n",
    "\n",
    "cout('Load and parse SPAM')\n",
    "\n",
    "# Load spam files\n",
    "idx = 0\n",
    "for path in spam_paths:\n",
    "    with open(path, encoding='latin1') as fp:\n",
    "        emails['spam'][idx] = Parser().parse(fp)\n",
    "        idx += 1\n",
    "\n",
    "cout('Saving to disk')\n",
    "\n",
    "# Save to disk\n",
    "with open('parsed data/emails.pkl', 'wb') as f:\n",
    "    pickle.dump(emails, f, pickle.HIGHEST_PROTOCOL)\n",
    "\n",
    "cout('Process Completed')\n"
   ]
  },
  {
   "cell_type": "code",
   "execution_count": null,
   "metadata": {
    "collapsed": true
   },
   "outputs": [],
   "source": [
    "\n",
    "import pickle\n",
    "import datetime\n",
    "import csv\n",
    "import re\n",
    "import copy\n",
    "from bs4 import BeautifulSoup\n",
    "\n",
    "\n",
    "def cout(text):\n",
    "    print('[{:%Y-%m-%d %H:%M:%S}] %s'.format(datetime.datetime.now()) % text)\n",
    "\n",
    "\n",
    "def post_filter_header_frequency_analysis(data, file_name, keys):\n",
    "    header_counts = {}\n",
    "    for h in keys:\n",
    "        header_counts[h] = {'Header': h, 'SPAM Count': 0, 'HAM Count': 0}\n",
    "\n",
    "    cout('Counting occurrences of header labels')\n",
    "\n",
    "    for row in data:\n",
    "        for h in row:\n",
    "            if h in keep_headers and row[h] is not None:\n",
    "                header_counts[h]['SPAM Count' if row['is_spam'] else 'HAM Count'] += 1\n",
    "\n",
    "    cout('Saving occurrence counts to disk')\n",
    "\n",
    "    with open('parsed data/%s.csv' % file_name, 'w') as output_file:\n",
    "        dict_writer = csv.DictWriter(output_file, ['Header', 'SPAM Count', 'HAM Count'])\n",
    "        dict_writer.writeheader()\n",
    "        dict_writer.writerows(header_counts.values())\n",
    "\n",
    "\n",
    "def header_frequency_analysis(data, file_name, keys):\n",
    "    header_counts = {}\n",
    "    for h in keys:\n",
    "        header_counts[h] = {'Header': h, 'SPAM Count': 0, 'HAM Count': 0}\n",
    "\n",
    "    cout('Counting occurrences of header labels from SPAM')\n",
    "\n",
    "    for datum in data['spam']:\n",
    "        for d in datum:\n",
    "            header_counts[d]['SPAM Count'] += 1\n",
    "\n",
    "    cout('Counting occurrences of header labels from HAM')\n",
    "\n",
    "    for datum in data['ham']:\n",
    "        for d in datum:\n",
    "            header_counts[d]['HAM Count'] += 1\n",
    "\n",
    "    cout('Saving occurrence counts to disk')\n",
    "\n",
    "    with open('parsed data/%s.csv' % file_name, 'w') as output_file:\n",
    "        dict_writer = csv.DictWriter(output_file, ['Header', 'SPAM Count', 'HAM Count'])\n",
    "        dict_writer.writeheader()\n",
    "        dict_writer.writerows(header_counts.values())\n",
    "\n",
    "cout('Loading pickle file')\n",
    "\n",
    "with open('parsed data/emails.pkl', 'rb') as f:\n",
    "    emails = pickle.load(f)\n",
    "\n",
    "headers = set()\n",
    "\n",
    "cout('Extracting unique header labels from HAM')\n",
    "\n",
    "for email in emails['ham']:\n",
    "    for key in email:\n",
    "        headers.add(key)\n",
    "\n",
    "cout('Extracting unique header labels from SPAM')\n",
    "\n",
    "for email in emails['spam']:\n",
    "    for key in email:\n",
    "        headers.add(key)\n",
    "\n",
    "cout('Starting pre-filter header frequency analysis')\n",
    "header_frequency_analysis(emails, 'pre_filter_headers', headers)\n",
    "\n",
    "# Contains header-regex key-value pairs that will be kept after filtering\n",
    "keep_headers = {\n",
    "    'from': re.compile('from|.*sender'),                                     # Categorical (match, no-match, n/a)\n",
    "    'subject': re.compile('subject'),\n",
    "    'reply_to': re.compile('^(?!in).*reply.*to.*$|returnpath'),              # Categorical (match, no-match, n/a)\n",
    "    'importance': re.compile('.*priority.*|.*importance.*|.*precedence.*'),  # Categorical\n",
    "    'cc': re.compile('cc'),                                                  # Bool for has header\n",
    "    'organization': re.compile('.*organization.*')                           # Bool for has header\n",
    "}\n",
    "\n",
    "cout('Building table template (layout)')\n",
    "\n",
    "# Initialize template with all None values\n",
    "row_template = {\n",
    "    'is_spam': None,\n",
    "    'from': set(),\n",
    "    'subject': None,\n",
    "    'reply_to': set(),\n",
    "    'importance': set(),\n",
    "    'cc': False,\n",
    "    'organization': False\n",
    "}\n",
    "\n",
    "# Allocate table of templates\n",
    "table = (len(emails['spam']) + len(emails['ham'])) * [None]\n",
    "\n",
    "cout('Filtering & combining headers / importing HAM into table')\n",
    "\n",
    "\n",
    "def html2txt(html):\n",
    "    text = ''\n",
    "\n",
    "    try:\n",
    "        soup = BeautifulSoup(html, \"lxml\")\n",
    "\n",
    "        # kill all script and style elements\n",
    "        for script in soup([\"script\", \"style\"]):\n",
    "            script.extract()  # rip it out\n",
    "\n",
    "        # get text\n",
    "        text = soup.get_text()\n",
    "\n",
    "        # break into lines and remove leading and trailing space on each\n",
    "        lines = (line.strip() for line in text.splitlines())\n",
    "        # break multi-headlines into a line each\n",
    "        chunks = (phrase.strip() for line in lines for phrase in line.split(\"  \"))\n",
    "        # drop blank lines\n",
    "        text = '\\n'.join(chunk for chunk in chunks if chunk)\n",
    "    except:\n",
    "        print('ERROR: Failed to parse as HTML => %s' % html)\n",
    "\n",
    "    return text\n",
    "\n",
    "import base64\n",
    "\n",
    "\n",
    "def flatten(msg):\n",
    "    if isinstance(msg, str):\n",
    "        return msg\n",
    "\n",
    "    ret = ''\n",
    "\n",
    "    try:\n",
    "        for m in msg:\n",
    "            payload = m.get_payload()\n",
    "            if isinstance(payload, list):\n",
    "                #ret += flatten(payload)\n",
    "                continue\n",
    "\n",
    "            tmp = m.get('Content-Type')\n",
    "\n",
    "            if tmp is None or 'text' in tmp:\n",
    "                if m.get('Content-Transfer-Encoding') == 'base64':\n",
    "                    html = base64.b64decode(payload)\n",
    "                ret += str(payload)\n",
    "            elif 'text/html' in tmp:\n",
    "                if m.get('Content-Transfer-Encoding') == 'base64':\n",
    "                    payload = base64.b64decode(payload)\n",
    "                ret += html2txt(payload)\n",
    "    except:\n",
    "        print('ERROR: Failed to parse => %s' % msg)\n",
    "\n",
    "    return ret\n",
    "\n",
    "char_filter = re.compile('[^a-z]')\n",
    "\n",
    "idx = 0\n",
    "\n",
    "for email in emails['ham']:\n",
    "    table[idx] = copy.deepcopy(row_template)\n",
    "    table[idx]['is_spam'] = False\n",
    "\n",
    "    # Find relevant headers\n",
    "    for header in email:\n",
    "        for key in keep_headers:\n",
    "            # Check lowercase, alphabet only characters against patterns\n",
    "            tmp = char_filter.sub('', header.lower())\n",
    "            if keep_headers[key].search(tmp):\n",
    "                if table[idx][key] is None:\n",
    "                    table[idx][key] = email[header]\n",
    "                elif table[idx][key] is False:\n",
    "                    table[idx][key] = True\n",
    "                elif table[idx][key] is True:\n",
    "                    pass\n",
    "                elif isinstance(table[idx][key], set):\n",
    "                    table[idx][key].add(email[header])\n",
    "\n",
    "    table[idx]['multipart_count'] = 0 if not email.is_multipart() else len(email.get_payload())\n",
    "    table[idx]['payload'] = flatten(email.get_payload())\n",
    "\n",
    "    idx += 1\n",
    "\n",
    "cout('Filtering & combining headers / importing SPAM into table')\n",
    "\n",
    "for email in emails['spam']:\n",
    "    table[idx] = copy.deepcopy(row_template)\n",
    "    table[idx]['is_spam'] = True\n",
    "\n",
    "    # Find relevant headers\n",
    "    for header in email:\n",
    "        for key in keep_headers:\n",
    "            # Check lowercase, alphabet only characters against patterns\n",
    "            tmp = char_filter.sub('', header.lower())\n",
    "            if keep_headers[key].search(tmp):\n",
    "                if table[idx][key] is None:\n",
    "                    table[idx][key] = email[header]\n",
    "                elif table[idx][key] is False:\n",
    "                    table[idx][key] = True\n",
    "                elif table[idx][key] is True:\n",
    "                    pass\n",
    "                elif isinstance(table[idx][key], set):\n",
    "                    table[idx][key].add(email[header])\n",
    "\n",
    "    table[idx]['multipart_count'] = 0 if not email.is_multipart() else len(email.get_payload())\n",
    "    table[idx]['payload'] = flatten(email.get_payload())\n",
    "\n",
    "    idx += 1\n",
    "\n",
    "cout('Saving to disk')\n",
    "\n",
    "# Save to disk\n",
    "with open('parsed data/table.pkl', 'wb') as f:\n",
    "    pickle.dump(table, f, pickle.HIGHEST_PROTOCOL)\n",
    "\n",
    "cout('Starting post-filter header frequency analysis')\n",
    "post_filter_header_frequency_analysis(table, 'post_filter_headers', keep_headers.keys())\n"
   ]
  },
  {
   "cell_type": "code",
   "execution_count": null,
   "metadata": {
    "collapsed": true
   },
   "outputs": [],
   "source": [
    "\n",
    "import pickle\n",
    "import datetime\n",
    "import csv\n",
    "import re\n",
    "from textstat.textstat import textstat\n",
    "from fuzzywuzzy import fuzz\n",
    "from multiprocessing import Pool\n",
    "\n",
    "\n",
    "def cout(text):\n",
    "    print('[{:%Y-%m-%d %H:%M:%S}] %s'.format(datetime.datetime.now()) % text)\n",
    "\n",
    "cout('Loading pickle file')\n",
    "\n",
    "with open('parsed data/table.pkl', 'rb') as f:\n",
    "    table = pickle.load(f)\n",
    "\n",
    "numeric = re.compile('.*[0-9].*')\n",
    "\n",
    "unique = set()\n",
    "\n",
    "\n",
    "def calc_stat(row):\n",
    "    # Analyze from and reply_to data\n",
    "    send_reply_data = list(row.pop('from', {}) | row.pop('reply_to', {}))\n",
    "\n",
    "    frm_fuzz_set = 0\n",
    "    n = 0\n",
    "\n",
    "    if not row['is_spam']:\n",
    "        pass\n",
    "\n",
    "    for i in range(len(send_reply_data)-1):\n",
    "        for j in range(i+1, len(send_reply_data)):\n",
    "            frm_fuzz_set += fuzz.token_set_ratio(send_reply_data[i], send_reply_data[j])\n",
    "            n += 1\n",
    "\n",
    "    row['frm_fuzz_set_ratio'] = frm_fuzz_set / n if n != 0 else 100\n",
    "\n",
    "    # Analyze importance data\n",
    "    importance = row.pop('importance', None)\n",
    "\n",
    "    # Filter round\n",
    "    importance = set(filter(lambda x: not numeric.match(x), importance))\n",
    "\n",
    "    # Conversion round\n",
    "    if any(('list' in x or 'ulk' in x) for x in importance):\n",
    "        importance = {'list'}\n",
    "    elif any(('ormal' in x or 'non-urgent' in x) for x in importance):\n",
    "        importance = {'medium'}\n",
    "    elif any(('igh' in x or 'rgent' in x) for x in importance):\n",
    "        importance = {'high'}\n",
    "    elif any('junk' in x for x in importance):\n",
    "        importance = {'low'}\n",
    "    elif len(importance) == 0 or importance == {''}:\n",
    "        importance = {'none'}\n",
    "    elif all('$' in x or 'user' in x or 'auto' in x for x in importance):\n",
    "        importance = {'invalid'}\n",
    "    else:\n",
    "        importance = {importance.pop().lower()}\n",
    "\n",
    "    row['importance'] = ', '.join(importance)\n",
    "\n",
    "    # Analyze subject\n",
    "    subject = row.pop('subject', None)\n",
    "\n",
    "    def set_neg_1():\n",
    "        row['subject_flesch_reading_ease'] = -1\n",
    "        row['subject_smog_index'] = -1\n",
    "        row['subject_flesch_kincaid_grade'] = -1\n",
    "        row['subject_coleman_liau_index'] = -1\n",
    "        row['subject_automated_readability_index'] = -1\n",
    "        row['subject_dale_chall_readability_score'] = -1\n",
    "        row['subject_difficult_words'] = -1\n",
    "        row['subject_linsear_write_formula'] = -1\n",
    "        row['subject_gunning_fog'] = -1\n",
    "\n",
    "    if subject is not None and subject != '':\n",
    "        try:\n",
    "            row['subject_flesch_reading_ease'] = textstat.flesch_reading_ease(subject)\n",
    "            row['subject_smog_index'] = textstat.smog_index(subject)\n",
    "            row['subject_flesch_kincaid_grade'] = textstat.flesch_kincaid_grade(subject)\n",
    "            row['subject_coleman_liau_index'] = textstat.coleman_liau_index(subject)\n",
    "            row['subject_automated_readability_index'] = textstat.automated_readability_index(subject)\n",
    "            row['subject_dale_chall_readability_score'] = textstat.dale_chall_readability_score(subject)\n",
    "            row['subject_difficult_words'] = textstat.difficult_words(subject)\n",
    "            row['subject_linsear_write_formula'] = textstat.linsear_write_formula(subject)\n",
    "            row['subject_gunning_fog'] = textstat.gunning_fog(subject)\n",
    "        except:\n",
    "            set_neg_1()\n",
    "    else:\n",
    "        set_neg_1()\n",
    "\n",
    "    # Analyze payload(s)\n",
    "    payload = row.pop('payload', None)\n",
    "\n",
    "    def set_neg_1p():\n",
    "        row['payload_flesch_reading_ease'] = -1\n",
    "        row['payload_smog_index'] = -1\n",
    "        row['payload_flesch_kincaid_grade'] = -1\n",
    "        row['payload_coleman_liau_index'] = -1\n",
    "        row['payload_automated_readability_index'] = -1\n",
    "        row['payload_dale_chall_readability_score'] = -1\n",
    "        row['payload_difficult_words'] = -1\n",
    "        row['payload_linsear_write_formula'] = -1\n",
    "        row['payload_gunning_fog'] = -1\n",
    "\n",
    "    if payload is not None and isinstance(payload, str) and payload != '':\n",
    "        try:\n",
    "            #print()\n",
    "            row['payload_flesch_reading_ease'] = textstat.flesch_reading_ease(payload)\n",
    "            row['payload_smog_index'] = textstat.smog_index(payload)\n",
    "            row['payload_flesch_kincaid_grade'] = textstat.flesch_kincaid_grade(payload)\n",
    "            row['payload_coleman_liau_index'] = textstat.coleman_liau_index(payload)\n",
    "            row['payload_automated_readability_index'] = textstat.automated_readability_index(payload)\n",
    "            row['payload_dale_chall_readability_score'] = textstat.dale_chall_readability_score(payload)\n",
    "            row['payload_difficult_words'] = textstat.difficult_words(payload)\n",
    "            row['payload_linsear_write_formula'] = textstat.linsear_write_formula(payload)\n",
    "            row['payload_gunning_fog'] = textstat.gunning_fog(payload)\n",
    "        except:\n",
    "            set_neg_1p()\n",
    "    else:\n",
    "        set_neg_1p()\n",
    "\n",
    "    return row\n",
    "\n",
    "cout('Computing %d row statistics using %d processes' % (len(table), 4))\n",
    "\n",
    "pool = Pool(processes=7)\n",
    "table = pool.map(calc_stat, table)\n",
    "\n",
    "cout('Saving table to disk as CSV')\n",
    "\n",
    "# Save to disk as CSV\n",
    "with open('parsed data/table.csv', 'w') as output_file:\n",
    "    dict_writer = csv.DictWriter(output_file, table[0].keys())\n",
    "    dict_writer.writeheader()\n",
    "\n",
    "    for row in table:\n",
    "        dict_writer.writerow({k: v.encode('utf-8') if isinstance(v, str) else v for k, v in row.items()})\n"
   ]
  }
 ],
 "metadata": {
  "anaconda-cloud": {},
  "kernelspec": {
   "display_name": "Python 3",
   "language": "python",
   "name": "python3"
  },
  "language_info": {
   "codemirror_mode": {
    "name": "ipython",
    "version": 3
   },
   "file_extension": ".py",
   "mimetype": "text/x-python",
   "name": "python",
   "nbconvert_exporter": "python",
   "pygments_lexer": "ipython3",
   "version": "3.5.2"
  }
 },
 "nbformat": 4,
 "nbformat_minor": 0
}
